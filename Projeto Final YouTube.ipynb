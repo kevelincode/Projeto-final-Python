{
 "cells": [
  {
   "cell_type": "code",
   "execution_count": 1,
   "metadata": {},
   "outputs": [
    {
     "name": "stdout",
     "output_type": "stream",
     "text": [
      "Note: you may need to restart the kernel to use updated packages.\n"
     ]
    }
   ],
   "source": [
    "#pip freeze > requirements.txt"
   ]
  },
  {
   "cell_type": "code",
   "execution_count": 2,
   "metadata": {},
   "outputs": [],
   "source": [
    "#pip install google-api-python-client"
   ]
  },
  {
   "cell_type": "code",
   "execution_count": 3,
   "metadata": {},
   "outputs": [],
   "source": [
    "#pip install plyer"
   ]
  },
  {
   "cell_type": "code",
   "execution_count": 4,
   "metadata": {},
   "outputs": [],
   "source": [
    "#pip install isodate\n",
    "#Necessário para alterar o farmato da duração do vídeo "
   ]
  },
  {
   "cell_type": "code",
   "execution_count": 5,
   "metadata": {},
   "outputs": [],
   "source": [
    "\n",
    "from googleapiclient.discovery import build\n",
    "import pandas as pd\n",
    "import requests \n",
    "import isodate\n",
    "import sqlite3"
   ]
  },
  {
   "cell_type": "code",
   "execution_count": 6,
   "metadata": {},
   "outputs": [
    {
     "data": {
      "text/plain": [
       "<Response [200]>"
      ]
     },
     "execution_count": 6,
     "metadata": {},
     "output_type": "execute_result"
    }
   ],
   "source": [
    "url = \"https://www.youtube.com/@depoisdosquinze\"\n",
    "response = requests.get(url)\n",
    "response"
   ]
  },
  {
   "cell_type": "code",
   "execution_count": 7,
   "metadata": {},
   "outputs": [
    {
     "data": {
      "text/plain": [
       "<Response [200]>"
      ]
     },
     "execution_count": 7,
     "metadata": {},
     "output_type": "execute_result"
    }
   ],
   "source": [
    "url = \"https://www.youtube.com/@fabisantina\"\n",
    "response = requests.get(url)\n",
    "response"
   ]
  },
  {
   "cell_type": "code",
   "execution_count": 8,
   "metadata": {},
   "outputs": [
    {
     "data": {
      "text/plain": [
       "<Response [200]>"
      ]
     },
     "execution_count": 8,
     "metadata": {},
     "output_type": "execute_result"
    }
   ],
   "source": [
    "url = \"https://www.youtube.com/@TacieleAlcoleaa\"\n",
    "response = requests.get(url)\n",
    "response"
   ]
  },
  {
   "cell_type": "code",
   "execution_count": 9,
   "metadata": {},
   "outputs": [],
   "source": [
    "#Substitua 'YOUR_API_KEY' pela sua chave de API do YouTube\n",
    "api_key = 'YOUR_API_KEY'"
   ]
  },
  {
   "cell_type": "code",
   "execution_count": 10,
   "metadata": {},
   "outputs": [],
   "source": [
    "# Construa o serviço da API do YouTube\n",
    "youtube = build('youtube', 'v3', developerKey=api_key)\n",
    "\n",
    "def get_channel_id(youtube, custom_url):\n",
    "    request = youtube.search().list(\n",
    "                part='snippet',\n",
    "                q=custom_url,\n",
    "                type='channel',\n",
    "                maxResults=1)\n",
    "    response = request.execute()\n",
    "    \n",
    "    for item in response['items']:\n",
    "        return item['snippet']['channelId']\n",
    "    \n",
    "    return None\n",
    "\n"
   ]
  },
  {
   "cell_type": "markdown",
   "metadata": {},
   "source": [
    "Para utlizar a API do Youtube é nessário extrair o ID dos canais escolhidos"
   ]
  },
  {
   "cell_type": "code",
   "execution_count": 11,
   "metadata": {},
   "outputs": [
    {
     "name": "stdout",
     "output_type": "stream",
     "text": [
      "ID do canal Depois dos Quinze: UCNWlx_0XxpUkci6PnCwH_dQ\n"
     ]
    }
   ],
   "source": [
    "# URL personalizada do canal \" Depois dos quinze\"\n",
    "custom_url = 'https://www.youtube.com/@depoisdosquinze'\n",
    "\n",
    "# Obter ID do canal \n",
    "channel_id = get_channel_id(youtube, custom_url)\n",
    "print(f\"ID do canal Depois dos Quinze: {channel_id}\")"
   ]
  },
  {
   "cell_type": "code",
   "execution_count": 12,
   "metadata": {},
   "outputs": [
    {
     "name": "stdout",
     "output_type": "stream",
     "text": [
      "ID do canal Taciele Alcolea: UCy9xDEfMD8jrXU3NatFLLtw\n"
     ]
    }
   ],
   "source": [
    "# URL personalizada do canal \"Taciele Alcolea\"\n",
    "custom_url = 'https://www.youtube.com/@TacieleAlcoleaa'\n",
    "\n",
    "# Obter ID do canal \n",
    "channel_id = get_channel_id(youtube, custom_url)\n",
    "print(f\"ID do canal Taciele Alcolea: {channel_id}\")"
   ]
  },
  {
   "cell_type": "code",
   "execution_count": 13,
   "metadata": {},
   "outputs": [
    {
     "name": "stdout",
     "output_type": "stream",
     "text": [
      "ID do canal Fabi Santina: UC5qJINQ80-zvtGQ4fq3kSRQ\n"
     ]
    }
   ],
   "source": [
    "# URL personalizada do canal \"Fabi Santina\"\n",
    "custom_url = 'https://www.youtube.com/@fabisantina'\n",
    "\n",
    "# Obter ID do canal \n",
    "channel_id = get_channel_id(youtube, custom_url)\n",
    "print(f\"ID do canal Fabi Santina: {channel_id}\")"
   ]
  },
  {
   "cell_type": "code",
   "execution_count": 14,
   "metadata": {},
   "outputs": [],
   "source": [
    "# Construa o serviço da API do YouTube\n",
    "youtube = build('youtube', 'v3', developerKey=api_key)\n"
   ]
  },
  {
   "cell_type": "code",
   "execution_count": 15,
   "metadata": {},
   "outputs": [],
   "source": [
    "# IDs de canais para análise (substitua pelos IDs dos canais desejados)\n",
    "channel_ids = ['UCy9xDEfMD8jrXU3NatFLLtw', 'UCNWlx_0XxpUkci6PnCwH_dQ', 'UC5qJINQ80-zvtGQ4fq3kSRQ']"
   ]
  },
  {
   "cell_type": "code",
   "execution_count": 16,
   "metadata": {},
   "outputs": [],
   "source": [
    "# Inicializar uma lista para coletar detalhes dos vídeos de todos os canais\n",
    "all_video_details = []\n",
    "all_channel_activities = []"
   ]
  },
  {
   "cell_type": "code",
   "execution_count": 17,
   "metadata": {},
   "outputs": [],
   "source": [
    "# Obter estatísticas dos canais\n",
    "def get_channel_stats(youtube, channel_ids):\n",
    "    all_data = []\n",
    "    request = youtube.channels().list(\n",
    "                part='snippet,contentDetails,statistics',\n",
    "                id=','.join(channel_ids)) \n",
    "    response = request.execute()\n",
    "    \n",
    "    for item in response['items']:\n",
    "        published_at = item['snippet'].get('publishedAt', 'N/A')\n",
    "        \n",
    "        if published_at != 'N/A':\n",
    "            # Separando data e tempo\n",
    "            date_part, time_part = published_at.split('T')\n",
    "            time_part = time_part.replace('Z', '')  # Remover o 'Z' do tempo\n",
    "            date_part = pd.to_datetime(date_part).strftime('%d/%m/%Y')  # Formatar data para dd/mm/yyyy\n",
    "\n",
    "        else:\n",
    "            date_part = 'N/A'\n",
    "            time_part = 'N/A'\n",
    "        \n",
    "        data = {\n",
    "            'channel_id': item['id'],\n",
    "            'channel_name': item['snippet']['title'],\n",
    "            'published_date': date_part,\n",
    "            'published_time': time_part,\n",
    "            'country': item['snippet'].get('country', 'N/A'),\n",
    "            'subscribers': int(item['statistics'].get('subscriberCount', 0)),\n",
    "            'views': int(item['statistics'].get('viewCount', 0)),\n",
    "            'total_videos': int(item['statistics'].get('videoCount', 0)),\n",
    "            'playlist_id': item['contentDetails']['relatedPlaylists']['uploads']\n",
    "        }\n",
    "        all_data.append(data)\n",
    "    \n",
    "    return pd.DataFrame(all_data)\n"
   ]
  },
  {
   "cell_type": "code",
   "execution_count": 18,
   "metadata": {},
   "outputs": [],
   "source": [
    "def get_video_ids(youtube, playlist_id):\n",
    "    # Cria uma lista vazia para armazenar os IDs dos vídeos\n",
    "    video_ids = []\n",
    "\n",
    "    # Faz a primeira solicitação à API do YouTube para obter detalhes dos vídeos na playlist\n",
    "    request = youtube.playlistItems().list(\n",
    "                part='contentDetails',  # Pede para retornar apenas os detalhes do conteúdo\n",
    "                playlistId=playlist_id,  \n",
    "                maxResults=50)  # Número máximo de vídeos retornados em uma solicitação (máximo permitido é 50)\n",
    "    response = request.execute()  # Executa a solicitação e armazena a resposta na variável 'response'\n",
    "    \n",
    "    # Loop através dos itens retornados na resposta\n",
    "    for item in response['items']:\n",
    "        # Adiciona o ID do vídeo à lista 'video_ids'\n",
    "        video_ids.append(item['contentDetails']['videoId'])\n",
    "    \n",
    "    # Verifica se há mais páginas de resultados\n",
    "    next_page_token = response.get('nextPageToken')\n",
    "    while next_page_token:  \n",
    "        request = youtube.playlistItems().list(\n",
    "                    part='contentDetails',  \n",
    "                    playlistId=playlist_id,  \n",
    "                    maxResults=50,  \n",
    "                    pageToken=next_page_token)  \n",
    "        response = request.execute()  \n",
    "        \n",
    "        # Adiciona os IDs dos vídeos da nova página à lista 'video_ids'\n",
    "        for item in response['items']:\n",
    "            video_ids.append(item['contentDetails']['videoId'])\n",
    "        \n",
    "        # Atualiza o token da próxima página (ou se não houver, termina o loop)\n",
    "        next_page_token = response.get('nextPageToken')\n",
    "    \n",
    "    # Retorna a lista completa de IDs de vídeos\n",
    "    return video_ids\n"
   ]
  },
  {
   "cell_type": "code",
   "execution_count": 19,
   "metadata": {},
   "outputs": [],
   "source": [
    "def get_video_details(youtube, video_ids, channel_name):\n",
    "    all_video_stats = []\n",
    "    \n",
    "    for i in range(0, len(video_ids), 50):\n",
    "        request = youtube.videos().list(\n",
    "                    part='snippet,statistics,contentDetails',\n",
    "                    id=','.join(video_ids[i:i+50]))\n",
    "        response = request.execute()\n",
    "        \n",
    "        for video in response['items']:\n",
    "            # Converte a data e hora para o formato datetime\n",
    "            published_at = pd.to_datetime(video['snippet']['publishedAt'])\n",
    "            \n",
    "            # Extrai a data e o horário em colunas separadas\n",
    "            date = published_at.strftime('%d-%m-%Y')\n",
    "            time = published_at.strftime('%H:%M:%S')\n",
    "            \n",
    "            # Converte a duração para o formato de horas:minutos:segundos\n",
    "            duration_iso = video['contentDetails']['duration']\n",
    "            duration = isodate.parse_duration(duration_iso)\n",
    "            duration_str = str(duration)\n",
    "            \n",
    "            video_stats = {\n",
    "                'channel_name': channel_name,\n",
    "                'video_id': video['id'],\n",
    "                'title': video['snippet']['title'],\n",
    "                'published_date': date,  # Coluna com a data no formato dia-mês-ano\n",
    "                'published_time': time,  # Coluna com o horário\n",
    "                'duration': duration_str,  # Duração convertida para formato legível\n",
    "                'category_id': video['snippet']['categoryId'],\n",
    "                'views': int(video['statistics'].get('viewCount', 0)),\n",
    "                'likes': int(video['statistics'].get('likeCount', 0)),\n",
    "                'comments': int(video['statistics'].get('commentCount', 0))\n",
    "            }\n",
    "            all_video_stats.append(video_stats)\n",
    "    \n",
    "    # Retorna os dados como um DataFrame\n",
    "    return pd.DataFrame(all_video_stats)\n"
   ]
  },
  {
   "cell_type": "code",
   "execution_count": 20,
   "metadata": {},
   "outputs": [],
   "source": [
    "def get_channel_activity(youtube, playlist_id):\n",
    "    # Obtém os detalhes dos vídeos\n",
    "    video_details = get_video_details(youtube, get_video_ids(youtube, playlist_id), \"\")\n",
    "    \n",
    "    # Converte a coluna 'published_date' para o formato datetime\n",
    "    video_details['published_date'] = pd.to_datetime(video_details['published_date'], format='%d-%m-%Y')\n",
    "    \n",
    "    \n",
    "    # Calcula a frequência mensal de uploads\n",
    "    # Extrai o mês e o ano\n",
    "    video_details['month'] = video_details['published_date'].dt.strftime('%m-%Y')\n",
    "    monthly_uploads = video_details.groupby(['channel_name', 'month']).size().reset_index(name='uploads')\n",
    "        \n",
    "    # Calcula o engajamento médio\n",
    "    avg_engagement = video_details[['views', 'likes', 'comments']].mean().reset_index()\n",
    "\n",
    "    # Arredonda as médias para 2 casas decimais\n",
    "    avg_engagement.columns = ['metric', 'average']\n",
    "    avg_engagement['average'] = avg_engagement['average'].round(2)\n",
    "        \n",
    "    return monthly_uploads, avg_engagement\n"
   ]
  },
  {
   "cell_type": "code",
   "execution_count": 21,
   "metadata": {},
   "outputs": [],
   "source": [
    "# Obter estatísticas dos canais\n",
    "channel_stats = get_channel_stats(youtube, channel_ids)\n",
    "\n",
    "# Obter IDs dos vídeos e detalhes dos vídeos de cada canal\n",
    "for index, row in channel_stats.iterrows():\n",
    "    playlist_id = row['playlist_id']\n",
    "    channel_name = row['channel_name']\n",
    "    video_ids = get_video_ids(youtube, playlist_id)\n",
    "    video_details = get_video_details(youtube, video_ids, channel_name)\n",
    "    all_video_details.append(video_details)\n",
    "    \n",
    "    # Obter atividade do canal\n",
    "    monthly_uploads, avg_engagement = get_channel_activity(youtube, playlist_id)\n",
    "    \n",
    "    # Arredondar as médias de engajamento para 2 casas decimais\n",
    "    avg_engagement = avg_engagement.round(2)\n",
    "    \n",
    "    monthly_uploads['channel_name'] = channel_name\n",
    "    avg_engagement['channel_name'] = channel_name\n",
    "    all_channel_activities.append((monthly_uploads, avg_engagement))\n"
   ]
  },
  {
   "cell_type": "code",
   "execution_count": 22,
   "metadata": {},
   "outputs": [],
   "source": [
    "# Combinar todos os detalhes dos vídeos em um único DataFrame\n",
    "all_video_details_df = pd.concat(all_video_details, ignore_index=True)\n",
    "\n",
    "# Combinar atividades dos canais\n",
    "monthly_uploads_df = pd.concat([x[0] for x in all_channel_activities], ignore_index=True)#Mostra quantos vídeos foram postados em cada mês\n",
    "avg_engagement_df = pd.concat([x[1] for x in all_channel_activities], ignore_index=True)#Mostra a média de visualizações, curtidas e comentários dos vídeos do canal\n"
   ]
  },
  {
   "cell_type": "code",
   "execution_count": 23,
   "metadata": {},
   "outputs": [
    {
     "data": {
      "text/html": [
       "<div>\n",
       "<style scoped>\n",
       "    .dataframe tbody tr th:only-of-type {\n",
       "        vertical-align: middle;\n",
       "    }\n",
       "\n",
       "    .dataframe tbody tr th {\n",
       "        vertical-align: top;\n",
       "    }\n",
       "\n",
       "    .dataframe thead th {\n",
       "        text-align: right;\n",
       "    }\n",
       "</style>\n",
       "<table border=\"1\" class=\"dataframe\">\n",
       "  <thead>\n",
       "    <tr style=\"text-align: right;\">\n",
       "      <th></th>\n",
       "      <th>metric</th>\n",
       "      <th>average</th>\n",
       "      <th>channel_name</th>\n",
       "    </tr>\n",
       "  </thead>\n",
       "  <tbody>\n",
       "    <tr>\n",
       "      <th>0</th>\n",
       "      <td>views</td>\n",
       "      <td>115288.37</td>\n",
       "      <td>Bruna Vieira</td>\n",
       "    </tr>\n",
       "    <tr>\n",
       "      <th>1</th>\n",
       "      <td>likes</td>\n",
       "      <td>8011.25</td>\n",
       "      <td>Bruna Vieira</td>\n",
       "    </tr>\n",
       "    <tr>\n",
       "      <th>2</th>\n",
       "      <td>comments</td>\n",
       "      <td>396.46</td>\n",
       "      <td>Bruna Vieira</td>\n",
       "    </tr>\n",
       "  </tbody>\n",
       "</table>\n",
       "</div>"
      ],
      "text/plain": [
       "     metric    average  channel_name\n",
       "0     views  115288.37  Bruna Vieira\n",
       "1     likes    8011.25  Bruna Vieira\n",
       "2  comments     396.46  Bruna Vieira"
      ]
     },
     "execution_count": 23,
     "metadata": {},
     "output_type": "execute_result"
    }
   ],
   "source": [
    "# Exibir o engajamento médio\n",
    "avg_engagement_df.head(3)"
   ]
  },
  {
   "cell_type": "code",
   "execution_count": 53,
   "metadata": {},
   "outputs": [
    {
     "data": {
      "text/plain": [
       "metric           object\n",
       "average         float64\n",
       "channel_name     object\n",
       "dtype: object"
      ]
     },
     "execution_count": 53,
     "metadata": {},
     "output_type": "execute_result"
    }
   ],
   "source": [
    "avg_engagement_df.dtypes"
   ]
  },
  {
   "cell_type": "code",
   "execution_count": 24,
   "metadata": {},
   "outputs": [
    {
     "data": {
      "text/html": [
       "<div>\n",
       "<style scoped>\n",
       "    .dataframe tbody tr th:only-of-type {\n",
       "        vertical-align: middle;\n",
       "    }\n",
       "\n",
       "    .dataframe tbody tr th {\n",
       "        vertical-align: top;\n",
       "    }\n",
       "\n",
       "    .dataframe thead th {\n",
       "        text-align: right;\n",
       "    }\n",
       "</style>\n",
       "<table border=\"1\" class=\"dataframe\">\n",
       "  <thead>\n",
       "    <tr style=\"text-align: right;\">\n",
       "      <th></th>\n",
       "      <th>channel_name</th>\n",
       "      <th>month</th>\n",
       "      <th>uploads</th>\n",
       "    </tr>\n",
       "  </thead>\n",
       "  <tbody>\n",
       "    <tr>\n",
       "      <th>0</th>\n",
       "      <td>Bruna Vieira</td>\n",
       "      <td>01-2013</td>\n",
       "      <td>5</td>\n",
       "    </tr>\n",
       "    <tr>\n",
       "      <th>1</th>\n",
       "      <td>Bruna Vieira</td>\n",
       "      <td>01-2014</td>\n",
       "      <td>7</td>\n",
       "    </tr>\n",
       "    <tr>\n",
       "      <th>2</th>\n",
       "      <td>Bruna Vieira</td>\n",
       "      <td>01-2015</td>\n",
       "      <td>11</td>\n",
       "    </tr>\n",
       "  </tbody>\n",
       "</table>\n",
       "</div>"
      ],
      "text/plain": [
       "   channel_name    month  uploads\n",
       "0  Bruna Vieira  01-2013        5\n",
       "1  Bruna Vieira  01-2014        7\n",
       "2  Bruna Vieira  01-2015       11"
      ]
     },
     "execution_count": 24,
     "metadata": {},
     "output_type": "execute_result"
    }
   ],
   "source": [
    "# Exibir os uploads mensais\n",
    "monthly_uploads_df.head(3)"
   ]
  },
  {
   "cell_type": "code",
   "execution_count": 52,
   "metadata": {},
   "outputs": [
    {
     "data": {
      "text/plain": [
       "channel_name    object\n",
       "month           object\n",
       "uploads          int64\n",
       "dtype: object"
      ]
     },
     "execution_count": 52,
     "metadata": {},
     "output_type": "execute_result"
    }
   ],
   "source": [
    "monthly_uploads_df.dtypes"
   ]
  },
  {
   "cell_type": "code",
   "execution_count": 25,
   "metadata": {},
   "outputs": [
    {
     "data": {
      "text/html": [
       "<div>\n",
       "<style scoped>\n",
       "    .dataframe tbody tr th:only-of-type {\n",
       "        vertical-align: middle;\n",
       "    }\n",
       "\n",
       "    .dataframe tbody tr th {\n",
       "        vertical-align: top;\n",
       "    }\n",
       "\n",
       "    .dataframe thead th {\n",
       "        text-align: right;\n",
       "    }\n",
       "</style>\n",
       "<table border=\"1\" class=\"dataframe\">\n",
       "  <thead>\n",
       "    <tr style=\"text-align: right;\">\n",
       "      <th></th>\n",
       "      <th>channel_name</th>\n",
       "      <th>video_id</th>\n",
       "      <th>title</th>\n",
       "      <th>published_date</th>\n",
       "      <th>published_time</th>\n",
       "      <th>duration</th>\n",
       "      <th>category_id</th>\n",
       "      <th>views</th>\n",
       "      <th>likes</th>\n",
       "      <th>comments</th>\n",
       "    </tr>\n",
       "  </thead>\n",
       "  <tbody>\n",
       "    <tr>\n",
       "      <th>0</th>\n",
       "      <td>Bruna Vieira</td>\n",
       "      <td>-KjbksWBJUA</td>\n",
       "      <td>Diário da obra #02: tour pelo apê ANTES da que...</td>\n",
       "      <td>15-06-2024</td>\n",
       "      <td>18:00:00</td>\n",
       "      <td>0:11:39</td>\n",
       "      <td>19</td>\n",
       "      <td>25221</td>\n",
       "      <td>2185</td>\n",
       "      <td>143</td>\n",
       "    </tr>\n",
       "    <tr>\n",
       "      <th>1</th>\n",
       "      <td>Bruna Vieira</td>\n",
       "      <td>wjtD-gCBrUY</td>\n",
       "      <td>acompanhem o Diário Da Obra do Estúdio Bruvie ...</td>\n",
       "      <td>11-06-2024</td>\n",
       "      <td>10:25:49</td>\n",
       "      <td>0:00:27</td>\n",
       "      <td>19</td>\n",
       "      <td>6972</td>\n",
       "      <td>490</td>\n",
       "      <td>3</td>\n",
       "    </tr>\n",
       "    <tr>\n",
       "      <th>2</th>\n",
       "      <td>Bruna Vieira</td>\n",
       "      <td>xfwjE7pCgZY</td>\n",
       "      <td>Diário da obra #01: Estúdio Bruvie em São Paulo</td>\n",
       "      <td>09-06-2024</td>\n",
       "      <td>23:18:33</td>\n",
       "      <td>0:08:28</td>\n",
       "      <td>19</td>\n",
       "      <td>23977</td>\n",
       "      <td>2400</td>\n",
       "      <td>142</td>\n",
       "    </tr>\n",
       "  </tbody>\n",
       "</table>\n",
       "</div>"
      ],
      "text/plain": [
       "   channel_name     video_id  \\\n",
       "0  Bruna Vieira  -KjbksWBJUA   \n",
       "1  Bruna Vieira  wjtD-gCBrUY   \n",
       "2  Bruna Vieira  xfwjE7pCgZY   \n",
       "\n",
       "                                               title published_date  \\\n",
       "0  Diário da obra #02: tour pelo apê ANTES da que...     15-06-2024   \n",
       "1  acompanhem o Diário Da Obra do Estúdio Bruvie ...     11-06-2024   \n",
       "2    Diário da obra #01: Estúdio Bruvie em São Paulo     09-06-2024   \n",
       "\n",
       "  published_time duration category_id  views  likes  comments  \n",
       "0       18:00:00  0:11:39          19  25221   2185       143  \n",
       "1       10:25:49  0:00:27          19   6972    490         3  \n",
       "2       23:18:33  0:08:28          19  23977   2400       142  "
      ]
     },
     "execution_count": 25,
     "metadata": {},
     "output_type": "execute_result"
    }
   ],
   "source": [
    "# Exibir os detalhes dos vídeos\n",
    "all_video_details_df.head(3)"
   ]
  },
  {
   "cell_type": "code",
   "execution_count": 51,
   "metadata": {},
   "outputs": [
    {
     "data": {
      "text/plain": [
       "channel_name      object\n",
       "video_id          object\n",
       "title             object\n",
       "published_date    object\n",
       "published_time    object\n",
       "duration          object\n",
       "category_id       object\n",
       "views              int64\n",
       "likes              int64\n",
       "comments           int64\n",
       "dtype: object"
      ]
     },
     "execution_count": 51,
     "metadata": {},
     "output_type": "execute_result"
    }
   ],
   "source": [
    "all_video_details_df.dtypes"
   ]
  },
  {
   "cell_type": "code",
   "execution_count": 26,
   "metadata": {},
   "outputs": [
    {
     "data": {
      "text/html": [
       "<div>\n",
       "<style scoped>\n",
       "    .dataframe tbody tr th:only-of-type {\n",
       "        vertical-align: middle;\n",
       "    }\n",
       "\n",
       "    .dataframe tbody tr th {\n",
       "        vertical-align: top;\n",
       "    }\n",
       "\n",
       "    .dataframe thead th {\n",
       "        text-align: right;\n",
       "    }\n",
       "</style>\n",
       "<table border=\"1\" class=\"dataframe\">\n",
       "  <thead>\n",
       "    <tr style=\"text-align: right;\">\n",
       "      <th></th>\n",
       "      <th>channel_id</th>\n",
       "      <th>channel_name</th>\n",
       "      <th>published_date</th>\n",
       "      <th>published_time</th>\n",
       "      <th>country</th>\n",
       "      <th>subscribers</th>\n",
       "      <th>views</th>\n",
       "      <th>total_videos</th>\n",
       "      <th>playlist_id</th>\n",
       "    </tr>\n",
       "  </thead>\n",
       "  <tbody>\n",
       "    <tr>\n",
       "      <th>0</th>\n",
       "      <td>UCNWlx_0XxpUkci6PnCwH_dQ</td>\n",
       "      <td>Bruna Vieira</td>\n",
       "      <td>15/11/2011</td>\n",
       "      <td>01:47:55</td>\n",
       "      <td>BR</td>\n",
       "      <td>1330000</td>\n",
       "      <td>95343145</td>\n",
       "      <td>826</td>\n",
       "      <td>UUNWlx_0XxpUkci6PnCwH_dQ</td>\n",
       "    </tr>\n",
       "    <tr>\n",
       "      <th>1</th>\n",
       "      <td>UCy9xDEfMD8jrXU3NatFLLtw</td>\n",
       "      <td>Taciele Alcolea</td>\n",
       "      <td>08/09/2009</td>\n",
       "      <td>15:51:09</td>\n",
       "      <td>BR</td>\n",
       "      <td>5860000</td>\n",
       "      <td>888883572</td>\n",
       "      <td>2275</td>\n",
       "      <td>UUy9xDEfMD8jrXU3NatFLLtw</td>\n",
       "    </tr>\n",
       "    <tr>\n",
       "      <th>2</th>\n",
       "      <td>UC5qJINQ80-zvtGQ4fq3kSRQ</td>\n",
       "      <td>Fabi Santina</td>\n",
       "      <td>02/10/2010</td>\n",
       "      <td>01:53:56</td>\n",
       "      <td>BR</td>\n",
       "      <td>1820000</td>\n",
       "      <td>330503095</td>\n",
       "      <td>2371</td>\n",
       "      <td>UU5qJINQ80-zvtGQ4fq3kSRQ</td>\n",
       "    </tr>\n",
       "  </tbody>\n",
       "</table>\n",
       "</div>"
      ],
      "text/plain": [
       "                 channel_id     channel_name published_date published_time  \\\n",
       "0  UCNWlx_0XxpUkci6PnCwH_dQ     Bruna Vieira     15/11/2011       01:47:55   \n",
       "1  UCy9xDEfMD8jrXU3NatFLLtw  Taciele Alcolea     08/09/2009       15:51:09   \n",
       "2  UC5qJINQ80-zvtGQ4fq3kSRQ     Fabi Santina     02/10/2010       01:53:56   \n",
       "\n",
       "  country  subscribers      views  total_videos               playlist_id  \n",
       "0      BR      1330000   95343145           826  UUNWlx_0XxpUkci6PnCwH_dQ  \n",
       "1      BR      5860000  888883572          2275  UUy9xDEfMD8jrXU3NatFLLtw  \n",
       "2      BR      1820000  330503095          2371  UU5qJINQ80-zvtGQ4fq3kSRQ  "
      ]
     },
     "execution_count": 26,
     "metadata": {},
     "output_type": "execute_result"
    }
   ],
   "source": [
    "# Exibir os dados dos canais\n",
    "channel_stats.head(5)"
   ]
  },
  {
   "cell_type": "code",
   "execution_count": 50,
   "metadata": {},
   "outputs": [
    {
     "data": {
      "text/plain": [
       "channel_id        object\n",
       "channel_name      object\n",
       "published_date    object\n",
       "published_time    object\n",
       "country           object\n",
       "subscribers        int64\n",
       "views              int64\n",
       "total_videos       int64\n",
       "playlist_id       object\n",
       "dtype: object"
      ]
     },
     "execution_count": 50,
     "metadata": {},
     "output_type": "execute_result"
    }
   ],
   "source": [
    "channel_stats.dtypes"
   ]
  },
  {
   "cell_type": "code",
   "execution_count": 27,
   "metadata": {},
   "outputs": [],
   "source": [
    "#Cria um arquivo xlsx com 4 abas e os dados extraídos\n",
    "with pd.ExcelWriter('Análise_Youtube.xlsx') as writer:\n",
    "    channel_stats.to_excel(writer, sheet_name='Estatísticas dos Canais', index=False)\n",
    "    all_video_details_df.to_excel(writer, sheet_name='Detalhes dos Vídeos', index=False)\n",
    "    monthly_uploads_df.to_excel(writer, sheet_name='Uploads Mensais', index=False)\n",
    "    avg_engagement_df.to_excel(writer, sheet_name='Média de Engajamento', index=False)\n"
   ]
  },
  {
   "cell_type": "code",
   "execution_count": 28,
   "metadata": {},
   "outputs": [],
   "source": [
    "from plyer import notification\n",
    "notification.notify(\n",
    "    title = \"Projeto Final YouTube\",\n",
    "    message = \"Dados exportados para 'Análise_Youtube.xlsx\",\n",
    "    app_name = 'Notificação do projeto',\n",
    "    timeout = 10\n",
    ")"
   ]
  },
  {
   "cell_type": "code",
   "execution_count": 37,
   "metadata": {},
   "outputs": [],
   "source": [
    "conn = sqlite3.connect('Análise_Youtube.db')\n"
   ]
  },
  {
   "cell_type": "code",
   "execution_count": 38,
   "metadata": {},
   "outputs": [
    {
     "data": {
      "text/plain": [
       "9"
      ]
     },
     "execution_count": 38,
     "metadata": {},
     "output_type": "execute_result"
    }
   ],
   "source": [
    "channel_stats.to_sql('Estatísticas dos Canais', conn, if_exists='replace', index=False)\n",
    "all_video_details_df.to_sql('Detalhes dos Vídeos', conn, if_exists='replace', index=False)\n",
    "monthly_uploads_df.to_sql('Uploads Mensais', conn, if_exists='replace', index=False)\n",
    "avg_engagement_df.to_sql('Média de Engajamento', conn, if_exists='replace', index=False)"
   ]
  },
  {
   "cell_type": "code",
   "execution_count": 42,
   "metadata": {},
   "outputs": [
    {
     "name": "stdout",
     "output_type": "stream",
     "text": [
      "                 channel_id     channel_name published_date published_time  \\\n",
      "0  UCNWlx_0XxpUkci6PnCwH_dQ     Bruna Vieira     15/11/2011       01:47:55   \n",
      "1  UCy9xDEfMD8jrXU3NatFLLtw  Taciele Alcolea     08/09/2009       15:51:09   \n",
      "2  UC5qJINQ80-zvtGQ4fq3kSRQ     Fabi Santina     02/10/2010       01:53:56   \n",
      "\n",
      "  country  subscribers      views  total_videos               playlist_id  \n",
      "0      BR      1330000   95343145           826  UUNWlx_0XxpUkci6PnCwH_dQ  \n",
      "1      BR      5860000  888883572          2275  UUy9xDEfMD8jrXU3NatFLLtw  \n",
      "2      BR      1820000  330503095          2371  UU5qJINQ80-zvtGQ4fq3kSRQ  \n"
     ]
    }
   ],
   "source": [
    "query = \"SELECT * FROM 'Estatísticas dos Canais'\"\n",
    "df = pd.read_sql(query, conn)\n",
    "print(df)"
   ]
  },
  {
   "cell_type": "code",
   "execution_count": 43,
   "metadata": {},
   "outputs": [],
   "source": [
    "conn.commit()\n",
    "conn.close()"
   ]
  }
 ],
 "metadata": {
  "kernelspec": {
   "display_name": "Python 3",
   "language": "python",
   "name": "python3"
  },
  "language_info": {
   "codemirror_mode": {
    "name": "ipython",
    "version": 3
   },
   "file_extension": ".py",
   "mimetype": "text/x-python",
   "name": "python",
   "nbconvert_exporter": "python",
   "pygments_lexer": "ipython3",
   "version": "3.12.4"
  }
 },
 "nbformat": 4,
 "nbformat_minor": 2
}
